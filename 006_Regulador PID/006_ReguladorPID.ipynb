{
 "cells": [
  {
   "cell_type": "markdown",
   "metadata": {},
   "source": [
    "PROGRAMACIÓN DE LA LÓGICA PROGRAMABLE E IMPORTACIÓN DE LAS LIBRERÍAS"
   ]
  },
  {
   "cell_type": "code",
   "execution_count": null,
   "metadata": {},
   "outputs": [],
   "source": [
    "from pynq import Overlay\n",
    "base = Overlay(\"/home/xilinx/jupyter_notebooks/MisCosas/Config/ReguladorEnFPGA.bit\")\n",
    "\n",
    "from pynq.lib import AxiGPIO\n",
    "\n",
    "import matplotlib.pyplot as plt\n",
    "import time"
   ]
  },
  {
   "cell_type": "markdown",
   "metadata": {},
   "source": [
    "DECLARACIÓN DE CONSTANTES"
   ]
  },
  {
   "cell_type": "code",
   "execution_count": 7,
   "metadata": {},
   "outputs": [],
   "source": [
    "Nbits=31\n",
    "ParteEntera=24\n",
    "Ts=5e-3\n",
    "Tiempo=5\n",
    "Escalon=15"
   ]
  },
  {
   "cell_type": "markdown",
   "metadata": {},
   "source": [
    "FUNCIONES PARA EL TRATAMIENTO DE LOS NÚMEROS"
   ]
  },
  {
   "cell_type": "code",
   "execution_count": 2,
   "metadata": {},
   "outputs": [],
   "source": [
    "def ToBinary(IN):\n",
    "    B=[]\n",
    "    while(IN>1):\n",
    "        B.append(IN%2)\n",
    "        IN=IN//2\n",
    "    B.append(IN)\n",
    "        \n",
    "    while(len(B)<Nbits):\n",
    "        B.append(0)\n",
    "        \n",
    "    return B"
   ]
  },
  {
   "cell_type": "code",
   "execution_count": 3,
   "metadata": {},
   "outputs": [],
   "source": [
    "def ToDecimalBinary(IN):\n",
    "    B=[]\n",
    "    for i in range(0, ParteEntera):\n",
    "        PM=IN-2**(-i-1)\n",
    "        if(PM>=0): \n",
    "            B.append(1)\n",
    "            IN=PM\n",
    "        else: B.append(0)\n",
    "            \n",
    "    return B"
   ]
  },
  {
   "cell_type": "code",
   "execution_count": 4,
   "metadata": {},
   "outputs": [],
   "source": [
    "def InvertBinary(IN):\n",
    "    B=[]\n",
    "    for i in range(len(IN)-1, -1, -1):\n",
    "        B.append(IN[i])\n",
    "        \n",
    "    return B"
   ]
  },
  {
   "cell_type": "code",
   "execution_count": 5,
   "metadata": {},
   "outputs": [],
   "source": [
    "def ToDecimalEntero(IN):\n",
    "    DE=0\n",
    "    for i in range(len(IN)-1, -1, -1):\n",
    "        DE+=(2**i)*IN[i]\n",
    "        \n",
    "    return DE"
   ]
  },
  {
   "cell_type": "code",
   "execution_count": 6,
   "metadata": {},
   "outputs": [],
   "source": [
    "def ToDecimalFraccional(IN):\n",
    "    DF=0\n",
    "    for i in range(len(IN)-1, -1, -1):\n",
    "        DF+=(2**(-i-1))*IN[i]\n",
    "        \n",
    "    return DF"
   ]
  },
  {
   "cell_type": "markdown",
   "metadata": {},
   "source": [
    "ACCESO A LOS BLOQUES AXI GPIO"
   ]
  },
  {
   "cell_type": "code",
   "execution_count": null,
   "metadata": {},
   "outputs": [],
   "source": [
    "AXIGPIO0=base.ip_dict['axi_gpio_0']\n",
    "CV_ENT=AxiGPIO(AXIGPIO0).channel1\n",
    "CV_S=AxiGPIO(AXIGPIO0).channel2\n",
    "\n",
    "AxiGPIO1=base.ip_dict['axi_gpio_1']\n",
    "ERROR_ENT=AxiGPIO(AxiGPIO1).channel1\n",
    "ERROR_S=AxiGPIO(AxiGPIO1).channel2"
   ]
  },
  {
   "cell_type": "markdown",
   "metadata": {},
   "source": [
    "# PROGRAMA"
   ]
  },
  {
   "cell_type": "markdown",
   "metadata": {},
   "source": [
    "Simulación"
   ]
  },
  {
   "cell_type": "code",
   "execution_count": 38,
   "metadata": {},
   "outputs": [],
   "source": [
    "#Se inicializa con un error de 0.\n",
    "ERROR_ENT[0:32].write(0)\n",
    "ERROR_S[0:1].write(0)\n",
    "i=0\n",
    "\n",
    "#Se inicializa la lista t en la que se guardarán los tiempos.\n",
    "t=[]\n",
    "while(i<Tiempo):\n",
    "    t.append(i)\n",
    "    i+=Ts\n",
    "    \n",
    "i=0"
   ]
  },
  {
   "cell_type": "code",
   "execution_count": 40,
   "metadata": {},
   "outputs": [],
   "source": [
    "time.sleep(10)\n",
    "\n",
    "Inicio=0.3\n",
    "Input, y, z=[], [], []\n",
    "\n",
    "while(i<Inicio):\n",
    "    Input.append(0)\n",
    "    y.append(CV_ENT.read())\n",
    "    z.append(CV_S.read())\n",
    "    i+=Ts\n",
    "    time.sleep(Ts)\n",
    "    \n",
    "BE=InvertBinary(ToBinary(int(Escalon//1))[0:Nbits-ParteEntera])+ToDecimalBinary(Escalon-Escalon//1)\n",
    "ERROR_ENT[0:32].write(ToDecimalEntero(InvertBinary(BE)))\n",
    "\n",
    "while(i<Tiempo):\n",
    "    Input.append(Escalon)\n",
    "    y.append(CV_ENT.read())\n",
    "    z.append(CV_S.read())\n",
    "    Escalon=15-4*(i-0.3)\n",
    "    if(Escalon<0):\n",
    "        Escalon=0\n",
    "    BE=InvertBinary(ToBinary(int(Escalon//1))[0:Nbits-ParteEntera])+ToDecimalBinary(Escalon-Escalon//1)\n",
    "    ERROR_ENT[0:32].write(ToDecimalEntero(InvertBinary(BE)))\n",
    "    i+=Ts\n",
    "    time.sleep(Ts)\n",
    "\n",
    "Output=y"
   ]
  },
  {
   "cell_type": "markdown",
   "metadata": {},
   "source": [
    "GRÁFICA"
   ]
  },
  {
   "cell_type": "code",
   "execution_count": 36,
   "metadata": {},
   "outputs": [],
   "source": [
    "Output=[]\n",
    "for i in range(len(y)):\n",
    "    #Pasamos a binario la lectura de la FPGA.\n",
    "    S=ToBinary(y[i])\n",
    "    #Para la parte entera eliminamos los bits decimales, del 0 hasta el 23.\n",
    "    #Para la parte decimal eliminamos los bits enteros, del 24 hasta el 31.\n",
    "    Output.append(z[i]*127+ToDecimalEntero(S[ParteEntera:Nbits])+ToDecimalFraccional(InvertBinary(S[0:ParteEntera])))"
   ]
  },
  {
   "cell_type": "code",
   "execution_count": 37,
   "metadata": {},
   "outputs": [
    {
     "data": {
      "image/png": "[encoded data removed]",
      "text/plain": [
       "<matplotlib.figure.Figure at 0xadc2bf30>"
      ]
     },
     "metadata": {},
     "output_type": "display_data"
    }
   ],
   "source": [
    "fig, P1= plt.subplots() \n",
    "P1.plot(t, Input, t, Output)\n",
    "P1.set_title('Escalón y Salida');"
   ]
  }
 ],
 "metadata": {
  "kernelspec": {
   "display_name": "Python 3 (ipykernel)",
   "language": "python",
   "name": "python3"
  },
  "language_info": {
   "codemirror_mode": {
    "name": "ipython",
    "version": 3
   },
   "file_extension": ".py",
   "mimetype": "text/x-python",
   "name": "python",
   "nbconvert_exporter": "python",
   "pygments_lexer": "ipython3",
   "version": "3.10.4"
  }
 },
 "nbformat": 4,
 "nbformat_minor": 2
}
