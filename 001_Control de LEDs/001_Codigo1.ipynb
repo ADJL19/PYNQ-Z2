{
 "cells": [
  {
   "cell_type": "markdown",
   "metadata": {},
   "source": [
    "PROGRAMACIÓN DE LA LÓGICA PROGRAMABLE"
   ]
  },
  {
   "cell_type": "code",
   "execution_count": 1,
   "metadata": {
    "ExecuteTime": {
     "end_time": "2020-10-20T04:23:21.952073Z",
     "start_time": "2020-10-20T04:23:10.392897Z"
    }
   },
   "outputs": [
    {
     "data": {
      "application/javascript": [
       "\n",
       "try {\n",
       "require(['notebook/js/codecell'], function(codecell) {\n",
       "  codecell.CodeCell.options_default.highlight_modes[\n",
       "      'magic_text/x-csrc'] = {'reg':[/^%%microblaze/]};\n",
       "  Jupyter.notebook.events.one('kernel_ready.Kernel', function(){\n",
       "      Jupyter.notebook.get_cells().map(function(cell){\n",
       "          if (cell.cell_type == 'code'){ cell.auto_highlight(); } }) ;\n",
       "  });\n",
       "});\n",
       "} catch (e) {};\n"
      ]
     },
     "metadata": {},
     "output_type": "display_data"
    },
    {
     "data": {
      "application/javascript": [
       "\n",
       "try {\n",
       "require(['notebook/js/codecell'], function(codecell) {\n",
       "  codecell.CodeCell.options_default.highlight_modes[\n",
       "      'magic_text/x-csrc'] = {'reg':[/^%%pybind11/]};\n",
       "  Jupyter.notebook.events.one('kernel_ready.Kernel', function(){\n",
       "      Jupyter.notebook.get_cells().map(function(cell){\n",
       "          if (cell.cell_type == 'code'){ cell.auto_highlight(); } }) ;\n",
       "  });\n",
       "});\n",
       "} catch (e) {};\n"
      ]
     },
     "metadata": {},
     "output_type": "display_data"
    }
   ],
   "source": [
    "#Se importa la clase BaseOverlay.\n",
    "from pynq.overlays.base import BaseOverlay\n",
    "#Se instancia el overlay, iniciando la progamación de la FPGA.\n",
    "base = BaseOverlay(\"base.bit\")"
   ]
  },
  {
   "cell_type": "markdown",
   "metadata": {},
   "source": [
    "DECLARACIÓN DE VARIABLES"
   ]
  },
  {
   "cell_type": "code",
   "execution_count": 2,
   "metadata": {
    "ExecuteTime": {
     "end_time": "2020-10-20T04:23:24.991662Z",
     "start_time": "2020-10-20T04:23:24.914943Z"
    }
   },
   "outputs": [],
   "source": [
    "MAX_LEDS=4\n",
    "#Enlazamos cada uno de los LEDs de la placa con una posición de la lista leds.\n",
    "leds=[base.leds[index] for index in range(MAX_LEDS)]\n",
    "\n",
    "#Realizamos lo mismo para interruptores, botones y LEDs RGB.\n",
    "MAX_SW=2\n",
    "MAX_BTN=4\n",
    "MAX_RGB=2\n",
    "switches=[base.switches[index] for index in range(MAX_SW)]\n",
    "buttons=[base.buttons[index] for index in range(MAX_BTN)]\n",
    "RGB=[base.rgbleds[index] for index in range(MAX_LEDS, MAX_LEDS+MAX_RGB)]\n",
    "\n",
    "#Es posible guardar en una variable una posición de la lista, permitiéndonos acceder al LED, en este caso,\n",
    "#sin emplear la lista.\n",
    "RGBizq=RGB[0]\n",
    "RGBder=RGB[1]"
   ]
  },
  {
   "cell_type": "markdown",
   "metadata": {},
   "source": [
    "PROGRAMA"
   ]
  },
  {
   "cell_type": "code",
   "execution_count": 9,
   "metadata": {
    "ExecuteTime": {
     "end_time": "2020-10-20T04:35:41.400560Z",
     "start_time": "2020-10-20T04:35:41.359542Z"
    }
   },
   "outputs": [
    {
     "name": "stdout",
     "output_type": "stream",
     "text": [
      "1\n",
      "0\n"
     ]
    }
   ],
   "source": [
    "#Encendemos un par de LEDs.\n",
    "leds[0].on()\n",
    "leds[1].on()\n",
    "\n",
    "#Apagamos el LED 2.\n",
    "leds[2].off()\n",
    "\n",
    "#Invertimos el estado del último LED.\n",
    "leds[3].toggle()\n",
    "\n",
    "#Se realiza la lectura del estado del botón2 y del interruptor0. Esta lectura se imprime en el área de salida,\n",
    "#en la parte inferior de la celda donde se encuentra el código.\n",
    "print(buttons[2].read())\n",
    "print(switches[0].read())"
   ]
  },
  {
   "cell_type": "code",
   "execution_count": 18,
   "metadata": {
    "ExecuteTime": {
     "end_time": "2020-10-20T04:36:40.186599Z",
     "start_time": "2020-10-20T04:36:40.167688Z"
    }
   },
   "outputs": [],
   "source": [
    "#Los LEDs RGB están compuestos por tres LEDs, por lo que es necesario indicarle qué LEDs deseamos encender.\n",
    "#Esto se realiza a través de un número decimal. \n",
    "RGB[0].write(3)\n",
    "RGB[1].on(6)"
   ]
  },
  {
   "cell_type": "code",
   "execution_count": 21,
   "metadata": {
    "ExecuteTime": {
     "end_time": "2020-10-20T04:37:06.434673Z",
     "start_time": "2020-10-20T04:37:06.411559Z"
    }
   },
   "outputs": [],
   "source": [
    "#Comprobamos que este método tiene como resultado el mismo que el anterior.\n",
    "RGBizq.write(3)\n",
    "RGBder.on(6)"
   ]
  },
  {
   "cell_type": "code",
   "execution_count": 3,
   "metadata": {
    "ExecuteTime": {
     "end_time": "2020-10-20T04:23:30.638730Z",
     "start_time": "2020-10-20T04:23:30.621490Z"
    }
   },
   "outputs": [],
   "source": [
    "#Se importa la librería time para usar la función time.sleep(X), que suspende la ejecución del programa X segundos.\n",
    "import time"
   ]
  },
  {
   "cell_type": "code",
   "execution_count": 24,
   "metadata": {
    "ExecuteTime": {
     "end_time": "2020-10-20T04:37:48.552203Z",
     "start_time": "2020-10-20T04:37:28.473745Z"
    }
   },
   "outputs": [],
   "source": [
    "#Se apagan todos los LEDs\n",
    "for i in range(MAX_LEDS): leds[i].off()\n",
    "    \n",
    "#Se entra en un bucle que durará 100x0.25=25s\n",
    "for j in range(100):\n",
    "    #La pulsación en un botón alterna el estado del LED\n",
    "    for i in range(MAX_LEDS):\n",
    "        if buttons[i].read(): leds[i].toggle()\n",
    "    time.sleep(.25)"
   ]
  },
  {
   "cell_type": "code",
   "execution_count": null,
   "metadata": {
    "ExecuteTime": {
     "start_time": "2022-05-02T16:18:58.981Z"
    }
   },
   "outputs": [],
   "source": [
    "#Se apagan todos los LEDs\n",
    "for i in range(MAX_LEDS): leds[i].off()\n",
    "\n",
    "    \n",
    "for j in range(100): \n",
    "    for i in range(MAX_LEDS): \n",
    "        #El estado del LED vendrá determinado por el de un interruptor.\n",
    "        if switches[i%2].read(): leds[i].on()\n",
    "        else: leds[i].off()\n",
    "    time.sleep(.1)"
   ]
  }
 ],
 "metadata": {
  "kernelspec": {
   "display_name": "Python 3 (ipykernel)",
   "language": "python",
   "name": "python3"
  },
  "language_info": {
   "codemirror_mode": {
    "name": "ipython",
    "version": 3
   },
   "file_extension": ".py",
   "mimetype": "text/x-python",
   "name": "python",
   "nbconvert_exporter": "python",
   "pygments_lexer": "ipython3",
   "version": "3.10.4"
  }
 },
 "nbformat": 4,
 "nbformat_minor": 2
}
