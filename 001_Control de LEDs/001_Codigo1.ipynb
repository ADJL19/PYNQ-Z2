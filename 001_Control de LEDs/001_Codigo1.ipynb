{
 "cells": [
  {
   "cell_type": "code",
   "execution_count": 1,
   "metadata": {
    "ExecuteTime": {
     "end_time": "2020-10-20T04:23:21.952073Z",
     "start_time": "2020-10-20T04:23:10.392897Z"
    }
   },
   "outputs": [
    {
     "data": {
      "application/javascript": [
       "\n",
       "try {\n",
       "require(['notebook/js/codecell'], function(codecell) {\n",
       "  codecell.CodeCell.options_default.highlight_modes[\n",
       "      'magic_text/x-csrc'] = {'reg':[/^%%microblaze/]};\n",
       "  Jupyter.notebook.events.one('kernel_ready.Kernel', function(){\n",
       "      Jupyter.notebook.get_cells().map(function(cell){\n",
       "          if (cell.cell_type == 'code'){ cell.auto_highlight(); } }) ;\n",
       "  });\n",
       "});\n",
       "} catch (e) {};\n"
      ]
     },
     "metadata": {},
     "output_type": "display_data"
    },
    {
     "data": {
      "application/javascript": [
       "\n",
       "try {\n",
       "require(['notebook/js/codecell'], function(codecell) {\n",
       "  codecell.CodeCell.options_default.highlight_modes[\n",
       "      'magic_text/x-csrc'] = {'reg':[/^%%pybind11/]};\n",
       "  Jupyter.notebook.events.one('kernel_ready.Kernel', function(){\n",
       "      Jupyter.notebook.get_cells().map(function(cell){\n",
       "          if (cell.cell_type == 'code'){ cell.auto_highlight(); } }) ;\n",
       "  });\n",
       "});\n",
       "} catch (e) {};\n"
      ]
     },
     "metadata": {},
     "output_type": "display_data"
    }
   ],
   "source": [
    "#Se importa la clase BaseOverlay.\n",
    "from pynq.overlays.base import BaseOverlay\n",
    "#Se instancia el overlay, iniciando la progamación de la FPGA.\n",
    "base = BaseOverlay(\"base.bit\")"
   ]
  },
  {
   "cell_type": "code",
   "execution_count": 2,
   "metadata": {
    "ExecuteTime": {
     "end_time": "2020-10-20T04:23:24.991662Z",
     "start_time": "2020-10-20T04:23:24.914943Z"
    }
   },
   "outputs": [],
   "source": [
    "MAX_LEDS=4\n",
    "leds=[base.leds[index] for index in range(MAX_LEDS)]\n",
    "\n",
    "MAX_SW=2\n",
    "switches=[base.switches[index] for index in range(MAX_SW)]\n",
    "\n",
    "MAX_BTN=4\n",
    "buttons=[base.buttons[index] for index in range(MAX_BTN)]\n",
    "BTNS\n",
    "\n",
    "MAX_RGB=2\n",
    "RGB=[base.rgbleds[index] for index in range(MAX_LEDS, MAX_LEDS+MAX_RGB)]\n",
    "RGBizq=RGB[0]\n",
    "RGBder=RGB[1]"
   ]
  },
  {
   "cell_type": "code",
   "execution_count": 9,
   "metadata": {
    "ExecuteTime": {
     "end_time": "2020-10-20T04:35:41.400560Z",
     "start_time": "2020-10-20T04:35:41.359542Z"
    }
   },
   "outputs": [
    {
     "name": "stdout",
     "output_type": "stream",
     "text": [
      "1\n",
      "0\n"
     ]
    }
   ],
   "source": [
    "leds[0].on()\n",
    "leds[1].on()\n",
    "leds[2].off()\n",
    "leds[3].toggle()\n",
    "print(buttons[2].read())\n",
    "print(switches[0].read())"
   ]
  },
  {
   "cell_type": "code",
   "execution_count": 18,
   "metadata": {
    "ExecuteTime": {
     "end_time": "2020-10-20T04:36:40.186599Z",
     "start_time": "2020-10-20T04:36:40.167688Z"
    }
   },
   "outputs": [],
   "source": [
    "RGB[0].write(3)\n",
    "RGB[1].on(6)"
   ]
  },
  {
   "cell_type": "code",
   "execution_count": 21,
   "metadata": {
    "ExecuteTime": {
     "end_time": "2020-10-20T04:37:06.434673Z",
     "start_time": "2020-10-20T04:37:06.411559Z"
    }
   },
   "outputs": [],
   "source": [
    "RGBizq.write(1)\n",
    "RGBder.on(1)"
   ]
  },
  {
   "cell_type": "code",
   "execution_count": 3,
   "metadata": {
    "ExecuteTime": {
     "end_time": "2020-10-20T04:23:30.638730Z",
     "start_time": "2020-10-20T04:23:30.621490Z"
    }
   },
   "outputs": [],
   "source": [
    "#Se importa la librería time para usar la función time.sleep(X), que suspende la ejecución del programa X segundos\n",
    "import time"
   ]
  },
  {
   "cell_type": "code",
   "execution_count": 24,
   "metadata": {
    "ExecuteTime": {
     "end_time": "2020-10-20T04:37:48.552203Z",
     "start_time": "2020-10-20T04:37:28.473745Z"
    }
   },
   "outputs": [],
   "source": [
    "for i in range(MAX_LEDS): leds[i].off()\n",
    "for j in range(100):\n",
    "    #La pulsación en un botón alterna el estado del LED\n",
    "    for i in range(MAX_LEDS):\n",
    "        if buttons[i].read(): leds[i].toggle()\n",
    "    time.sleep(.25)"
   ]
  },
  {
   "cell_type": "code",
   "execution_count": null,
   "metadata": {
    "ExecuteTime": {
     "start_time": "2022-05-02T16:18:58.981Z"
    }
   },
   "outputs": [],
   "source": [
    "for i in range(MAX_LEDS): leds[i].off()\n",
    "for j in range(100): \n",
    "    for i in range(MAX_LEDS): \n",
    "        if switches[i%2].read(): leds[i].on()\n",
    "        else: leds[i].off()\n",
    "    time.sleep(.1)"
   ]
  },
  {
   "cell_type": "code",
   "execution_count": 7,
   "metadata": {
    "ExecuteTime": {
     "end_time": "2020-10-20T04:26:52.505927Z",
     "start_time": "2020-10-20T04:26:27.577465Z"
    }
   },
   "outputs": [],
   "source": [
    "#USO DE BOTONES, LEDS Y SWITCHES\n",
    "L, D, K  = 0, 0.1, 0\n",
    "X = [3, 5, 10, 15, 30]\n",
    "\n",
    "#Se apagan los LEDs\n",
    "for i in range(MAX_LEDS): leds[i].off()\n",
    "    \n",
    "#El programa se podrá finalizar mediante el interruptor 1.\n",
    "while switches[1].read(): \n",
    "    #El primer botón encenderá, mientras esté pulsado, el LED seleccionado.\n",
    "    if buttons[0].read(): leds[L].on()\n",
    "    else: leds[L].off()\n",
    "        \n",
    "    #El segundo botón cambia el LED seleccionado\n",
    "    if buttons[1].read():\n",
    "        leds[L].off()\n",
    "        \n",
    "        #El valor del interruptor 0 determinará si se selecciona el va\n",
    "        if switches[0].read(): \n",
    "            #Como el valor L tiene que estar comprendido entre 0 y 3, se hace uso del operador del módulo. De esta forma, si L+1 es igual a 4, al aplicar '%' el resultado será el resto de 4/4, es decir 0.\n",
    "            L = (L+1)%4\n",
    "        else: \n",
    "            #Para seleccionar el LED de la iquierda, en vez de restar 1 a la posición actual, lo que implicaría la posibilidad de números negativos, se le suma el número 3, ya que el 4 supondría volver a la misma posición.\n",
    "            L = (L+3)%4\n",
    "            \n",
    "    #El tercer botón hace parpadear el LED seleccionado un número X de veces. Este número está determinado por el valor de K.\n",
    "    if buttons[2].read(): \n",
    "        for i in range(2*X[K]):\n",
    "            leds[L].toggle()\n",
    "            time.sleep(D)\n",
    "            \n",
    "    #El cuarto botón modifica el valor de K.\n",
    "    if buttons[3].read():\n",
    "        K = (K+1)%5\n",
    "    time.sleep(.5)\n",
    "    \n",
    "#Finalizada la ejecución del programa se encienden los 4 LEDs.\n",
    "for i in range(MAX_LEDS): leds[i].on()"
   ]
  },
  {
   "cell_type": "markdown",
   "metadata": {},
   "source": [
    "CONTROL DE LOS LEDSRGB A TRAVÉS DE LOS BOTONES"
   ]
  },
  {
   "cell_type": "code",
   "execution_count": 9,
   "metadata": {
    "ExecuteTime": {
     "end_time": "2020-10-20T04:27:26.235953Z",
     "start_time": "2020-10-20T04:27:26.093027Z"
    }
   },
   "outputs": [
    {
     "ename": "AttributeError",
     "evalue": "'list' object has no attribute 'read'",
     "output_type": "error",
     "traceback": [
      "\u001b[0;31m---------------------------------------------------------------------------\u001b[0m",
      "\u001b[0;31mAttributeError\u001b[0m                            Traceback (most recent call last)",
      "\u001b[0;32m<ipython-input-9-4dcbf5e23b20>\u001b[0m in \u001b[0;36m<module>\u001b[0;34m()\u001b[0m\n\u001b[1;32m      1\u001b[0m \u001b[0;31m#Cada combinación de pulsación de los botones enciende los LEDs RGB en un color distinto.\u001b[0m\u001b[0;34m\u001b[0m\u001b[0;34m\u001b[0m\u001b[0m\n\u001b[1;32m      2\u001b[0m \u001b[0;32mwhile\u001b[0m \u001b[0;32mTrue\u001b[0m\u001b[0;34m:\u001b[0m\u001b[0;34m\u001b[0m\u001b[0m\n\u001b[0;32m----> 3\u001b[0;31m     \u001b[0;32mif\u001b[0m \u001b[0mbuttons\u001b[0m\u001b[0;34m.\u001b[0m\u001b[0mread\u001b[0m\u001b[0;34m(\u001b[0m\u001b[0;34m)\u001b[0m\u001b[0;34m==\u001b[0m\u001b[0;36m1\u001b[0m\u001b[0;34m:\u001b[0m\u001b[0;34m\u001b[0m\u001b[0m\n\u001b[0m\u001b[1;32m      4\u001b[0m         \u001b[0mRGB\u001b[0m\u001b[0;34m[\u001b[0m\u001b[0;36m0\u001b[0m\u001b[0;34m:\u001b[0m\u001b[0;36m6\u001b[0m\u001b[0;34m]\u001b[0m\u001b[0;34m.\u001b[0m\u001b[0mwrite\u001b[0m\u001b[0;34m(\u001b[0m\u001b[0;36m33\u001b[0m\u001b[0;34m)\u001b[0m\u001b[0;34m\u001b[0m\u001b[0m\n\u001b[1;32m      5\u001b[0m     \u001b[0;32melif\u001b[0m \u001b[0mbuttons\u001b[0m\u001b[0;34m.\u001b[0m\u001b[0mread\u001b[0m\u001b[0;34m(\u001b[0m\u001b[0;34m)\u001b[0m\u001b[0;34m==\u001b[0m\u001b[0;36m2\u001b[0m\u001b[0;34m:\u001b[0m\u001b[0;34m\u001b[0m\u001b[0m\n",
      "\u001b[0;31mAttributeError\u001b[0m: 'list' object has no attribute 'read'"
     ]
    }
   ],
   "source": [
    "#Cada combinación de pulsación de los botones enciende los LEDs RGB en un color distinto.\n",
    "while True:\n",
    "    if BTNS.read()==1:\n",
    "        RGB[0:6].write(33)\n",
    "    elif BTNS.read()==2:\n",
    "        RGB[0:6].write(30)\n",
    "    elif BTNS.read()==3:\n",
    "        RGB[0:6].write(5)\n",
    "    elif BTNS.read()==4:\n",
    "        RGB[0:6].write(12)\n",
    "    elif BTNS.read()==5:\n",
    "        RGB[0:6].write(34)\n",
    "    elif BTNS.read()==6:\n",
    "        RGB[0:6].write(48)\n",
    "    elif BTNS.read()==7:\n",
    "        RGB[0:6].write(52)\n",
    "    elif BTNS.read()==8:\n",
    "        RGB[0:6].write(63)\n",
    "    elif BTNS.read()>8:\n",
    "        break;\n",
    "    sleep(0.1)"
   ]
  }
 ],
 "metadata": {
  "kernelspec": {
   "display_name": "Python 3",
   "language": "python",
   "name": "python3"
  },
  "language_info": {
   "codemirror_mode": {
    "name": "ipython",
    "version": 3
   },
   "file_extension": ".py",
   "mimetype": "text/x-python",
   "name": "python",
   "nbconvert_exporter": "python",
   "pygments_lexer": "ipython3",
   "version": "3.6.5"
  }
 },
 "nbformat": 4,
 "nbformat_minor": 2
}
