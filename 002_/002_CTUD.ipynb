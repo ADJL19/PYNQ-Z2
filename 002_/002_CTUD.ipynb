{
 "cells": [
  {
   "cell_type": "code",
   "execution_count": null,
   "id": "ad9e5cbe",
   "metadata": {},
   "outputs": [],
   "source": [
    "#Para la carga del overlay se usa esta vez la clase Overlay\n",
    "from pynq import Overlay\n",
    "#La instanciación necesita conocer la ruta completa y el nombre del archivo\n",
    "ov = Overlay(\"/home/xilinx/jupyter_notebooks/MisCosas/Config/CTUDII.bit\")\n",
    "\n",
    "#Para la comunicación PS-PL se usaron los IP del controlador AXI GPIO. Se importa la clase AxiGPIO para emplear sus métodos de escritura y lectura.\n",
    "from pynq.lib import AxiGPIO\n",
    "\n",
    "from time import sleep"
   ]
  },
  {
   "cell_type": "code",
   "execution_count": null,
   "id": "9f390b4a",
   "metadata": {},
   "outputs": [],
   "source": [
    "#Se obtiene información relacionada con el controlador AXI GPIO denominado axi_gpio_0. Esta información contiene la dirección física, el tipo de driver y etc\n",
    "PSPL=ov.ip_dict['axi_gpio_0']\n",
    "\n",
    "#Se crean instancias de la clase AxiGPIO al pasarle el nombre del controlador AXI GPIO.\n",
    "CTUD=AxiGPIO(PSPL).channel1 #Esta será la entrada de la PS donde está el valor del contador.\n",
    "RGB=AxiGPIO(PSPL).channel2 #Salida del controlador hacia los LEDs triestado"
   ]
  },
  {
   "cell_type": "code",
   "execution_count": null,
   "id": "73c51bd0",
   "metadata": {},
   "outputs": [],
   "source": [
    "#Para seccionar la información leída se aplica una máscara. De esta forma se obtiene el 5nto bit.\n",
    "print(CTUD.read() & 0x10)"
   ]
  },
  {
   "cell_type": "code",
   "execution_count": null,
   "id": "9468f2b5",
   "metadata": {},
   "outputs": [],
   "source": [
    "#Mientras el 5nto bit sea un '0', se vuelca sobre los LEDs RGB el valor del contador.\n",
    "while CTUD.read() & 0x10==0:\n",
    "    RGB[0:6].write(CTUD.read()) #No se aplica máscara porque sabemos que el 5nto bit, no proveniente del contador, es 0.\n",
    "    sleep(0.1)"
   ]
  }
 ],
 "metadata": {
  "kernelspec": {
   "display_name": "Python 3 (ipykernel)",
   "language": "python",
   "name": "python3"
  },
  "language_info": {
   "codemirror_mode": {
    "name": "ipython",
    "version": 3
   },
   "file_extension": ".py",
   "mimetype": "text/x-python",
   "name": "python",
   "nbconvert_exporter": "python",
   "pygments_lexer": "ipython3",
   "version": "3.10.4"
  }
 },
 "nbformat": 4,
 "nbformat_minor": 5
}
