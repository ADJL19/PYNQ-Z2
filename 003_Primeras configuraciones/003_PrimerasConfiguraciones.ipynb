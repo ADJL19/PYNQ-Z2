{
 "cells": [
  {
   "cell_type": "markdown",
   "metadata": {
    "ExecuteTime": {
     "end_time": "2022-07-12T15:26:34.529079Z",
     "start_time": "2022-07-12T15:26:34.504994Z"
    }
   },
   "source": [
    "PROGRAMACIÓN DE LA LÓGICA PROGRAMABLE E IMPORTACIÓN DE LIBRERÍAS"
   ]
  },
  {
   "cell_type": "code",
   "execution_count": 2,
   "metadata": {
    "ExecuteTime": {
     "end_time": "2022-07-12T15:24:26.337902Z",
     "start_time": "2022-07-12T15:24:25.809656Z"
    }
   },
   "outputs": [],
   "source": [
    "from pynq import Overlay\n",
    "base = Overlay(\"/home/xilinx/jupyter_notebooks/MisCosas/Config/PSlinkedPL.bit\")\n",
    "\n",
    "#Para la comunicación PS-PL se usaron los IP del controlador AXI GPIO.\n",
    "#Se importa la clase AxiGPIO para emplear sus métodos de escritura y lectura.\n",
    "from pynq.lib import AxiGPIO\n",
    "\n",
    "import time"
   ]
  },
  {
   "cell_type": "markdown",
   "metadata": {},
   "source": [
    "ACCESO AL BLOQUE AXI GPIO"
   ]
  },
  {
   "cell_type": "code",
   "execution_count": 4,
   "metadata": {
    "ExecuteTime": {
     "end_time": "2022-07-12T15:25:01.689163Z",
     "start_time": "2022-07-12T15:25:01.661947Z"
    }
   },
   "outputs": [],
   "source": [
    "BloqPlanta=base.ip_dict['axi_gpio_1']\n",
    "Entrada=AxiGPIO(BloqPlanta).channel1\n",
    "Salida=AxiGPIO(BloqPlanta).channel2"
   ]
  },
  {
   "cell_type": "markdown",
   "metadata": {},
   "source": [
    "PROGRAMA"
   ]
  },
  {
   "cell_type": "code",
   "execution_count": 9,
   "metadata": {
    "ExecuteTime": {
     "end_time": "2022-07-12T15:26:03.712426Z",
     "start_time": "2022-07-12T15:26:03.688732Z"
    }
   },
   "outputs": [],
   "source": [
    "LED3=Entrada.read()\n",
    "Salida[0:1].write(LED3)\n",
    "\n",
    "#Equivalente a Salida.write(Entrada.read()). No se opta por esta opción por claridad."
   ]
  },
  {
   "cell_type": "code",
   "execution_count": 14,
   "metadata": {
    "ExecuteTime": {
     "end_time": "2022-07-12T15:32:05.080209Z",
     "start_time": "2022-07-12T15:31:49.993178Z"
    }
   },
   "outputs": [],
   "source": [
    "#Durante 15s el estado del LED se actualizará. Lo hará cada 100ms. \n",
    "#Dependiendo del momento en el que se pulse el botón o el interruptor, se podrá observar que \n",
    "#el cambio del LED no es instantáneo.\n",
    "for i in range(150):\n",
    "    time.sleep(0.1)\n",
    "    LED3=Entrada.read()\n",
    "    Salida[0:1].write(LED3)"
   ]
  }
 ],
 "metadata": {
  "kernelspec": {
   "display_name": "Python 3",
   "language": "python",
   "name": "python3"
  },
  "language_info": {
   "codemirror_mode": {
    "name": "ipython",
    "version": 3
   },
   "file_extension": ".py",
   "mimetype": "text/x-python",
   "name": "python",
   "nbconvert_exporter": "python",
   "pygments_lexer": "ipython3",
   "version": "3.6.5"
  },
  "varInspector": {
   "cols": {
    "lenName": 16,
    "lenType": 16,
    "lenVar": 40
   },
   "kernels_config": {
    "python": {
     "delete_cmd_postfix": "",
     "delete_cmd_prefix": "del ",
     "library": "var_list.py",
     "varRefreshCmd": "print(var_dic_list())"
    },
    "r": {
     "delete_cmd_postfix": ") ",
     "delete_cmd_prefix": "rm(",
     "library": "var_list.r",
     "varRefreshCmd": "cat(var_dic_list()) "
    }
   },
   "types_to_exclude": [
    "module",
    "function",
    "builtin_function_or_method",
    "instance",
    "_Feature"
   ],
   "window_display": false
  }
 },
 "nbformat": 4,
 "nbformat_minor": 5
}
