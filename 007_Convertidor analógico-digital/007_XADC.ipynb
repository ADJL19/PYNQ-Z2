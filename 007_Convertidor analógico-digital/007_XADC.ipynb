{
 "cells": [
  {
   "cell_type": "code",
   "execution_count": 6,
   "metadata": {
    "ExecuteTime": {
     "end_time": "2022-05-06T14:27:10.165902Z",
     "start_time": "2022-05-06T14:27:09.687245Z"
    }
   },
   "outputs": [],
   "source": [
    "from pynq import Overlay\n",
    "base = Overlay(\"/home/xilinx/jupyter_notebooks/MisCosas/Config/PruebadelADC.bit\")\n",
    "\n",
    "from pynq.lib import AxiGPIO\n",
    "\n",
    "import matplotlib.pyplot as plt\n",
    "import time"
   ]
  },
  {
   "cell_type": "code",
   "execution_count": 7,
   "metadata": {
    "ExecuteTime": {
     "end_time": "2022-05-06T14:27:11.750071Z",
     "start_time": "2022-05-06T14:27:11.724537Z"
    }
   },
   "outputs": [],
   "source": [
    "AXIGPIO0=base.ip_dict['axi_gpio_0']\n",
    "VD=AxiGPIO(AXIGPIO0).channel1\n",
    "Inicio=AxiGPIO(AXIGPIO0).channel2"
   ]
  },
  {
   "cell_type": "code",
   "execution_count": 17,
   "metadata": {
    "ExecuteTime": {
     "end_time": "2022-05-06T14:30:14.015224Z",
     "start_time": "2022-05-06T14:30:13.970977Z"
    }
   },
   "outputs": [],
   "source": [
    "def ToBinary(IN):\n",
    "    B=[]\n",
    "    while(IN>1):\n",
    "        B.append(IN%2)\n",
    "        IN=IN//2\n",
    "    B.append(IN)\n",
    "        \n",
    "    while(len(B)<16):\n",
    "        B.append(0)\n",
    "        \n",
    "    return B"
   ]
  },
  {
   "cell_type": "code",
   "execution_count": 9,
   "metadata": {
    "ExecuteTime": {
     "end_time": "2022-05-06T14:27:14.310696Z",
     "start_time": "2022-05-06T14:27:14.279243Z"
    }
   },
   "outputs": [],
   "source": [
    "def ToDecimalEntero(IN):\n",
    "    DE=0\n",
    "    for i in range(len(IN)-1, -1, -1):\n",
    "        DE+=(2**i)*IN[i]\n",
    "        \n",
    "    return DE"
   ]
  },
  {
   "cell_type": "code",
   "execution_count": 10,
   "metadata": {
    "ExecuteTime": {
     "end_time": "2022-05-06T14:27:15.364172Z",
     "start_time": "2022-05-06T14:27:15.330472Z"
    }
   },
   "outputs": [],
   "source": [
    "def ValorAnalogico(IN):\n",
    "    B=ToBinary(IN)\n",
    "    #Se obvian los primeros 4 bits por no ser parte de los 12 bits del valor digital generado por el ADC\n",
    "    VA=ToDecimalEntero(B[4:17])\n",
    "    #Para obtener el valor analógico basta con dividir entre 2^(12)-1\n",
    "    VA=VA/4095\n",
    "    \n",
    "    return VA"
   ]
  },
  {
   "cell_type": "code",
   "execution_count": 11,
   "metadata": {
    "ExecuteTime": {
     "end_time": "2022-05-06T14:27:16.801882Z",
     "start_time": "2022-05-06T14:27:16.772922Z"
    }
   },
   "outputs": [],
   "source": [
    "#Se emplea esta función para iniciar una conversión.\n",
    "def Conversion():\n",
    "    #Para ello se genera un flanco de subida en la señal Inicio, que será detectado por la unidad de control.\n",
    "    Inicio[0:1].write(1)\n",
    "    time.sleep(1e-3)\n",
    "    Inicio[0:1].write(0)"
   ]
  },
  {
   "cell_type": "code",
   "execution_count": 22,
   "metadata": {
    "ExecuteTime": {
     "end_time": "2022-05-06T14:36:18.834901Z",
     "start_time": "2022-05-06T14:36:18.807022Z"
    }
   },
   "outputs": [
    {
     "name": "stdout",
     "output_type": "stream",
     "text": [
      "0.7838827838827839\n"
     ]
    }
   ],
   "source": [
    "#Con esta celda realizamos una única toma de datos.\n",
    "Conversion()\n",
    "print(ValorAnalogico(VD.read()))"
   ]
  },
  {
   "cell_type": "code",
   "execution_count": 9,
   "metadata": {
    "ExecuteTime": {
     "end_time": "2020-10-20T04:32:09.277714Z",
     "start_time": "2020-10-20T04:32:09.247773Z"
    }
   },
   "outputs": [],
   "source": [
    "i=0\n",
    "t=[]\n",
    "for i in range(1000):\n",
    "    #Se genera la lista que servirá como eje X en la gráfica\n",
    "    t.append(i)\n",
    "    i+=1"
   ]
  },
  {
   "cell_type": "code",
   "execution_count": 10,
   "metadata": {
    "ExecuteTime": {
     "end_time": "2020-10-20T04:32:14.545861Z",
     "start_time": "2020-10-20T04:32:12.967121Z"
    }
   },
   "outputs": [],
   "source": [
    "i=0\n",
    "ValD=[]\n",
    "\n",
    "for i in range(1000):\n",
    "    Conversion()\n",
    "    ValD.append(VD.read())\n",
    "    i+=1"
   ]
  },
  {
   "cell_type": "code",
   "execution_count": 11,
   "metadata": {
    "ExecuteTime": {
     "end_time": "2020-10-20T04:35:23.463051Z",
     "start_time": "2020-10-20T04:35:23.341031Z"
    }
   },
   "outputs": [],
   "source": [
    "Output=[]\n",
    "#Se procesa la lista que almacena los valores digitales.\n",
    "for i in range(len(ValD)):\n",
    "    Output.append(ValorAnalogico(ValD[i]))"
   ]
  },
  {
   "cell_type": "code",
   "execution_count": 12,
   "metadata": {
    "ExecuteTime": {
     "end_time": "2020-10-20T04:35:27.895531Z",
     "start_time": "2020-10-20T04:35:26.259690Z"
    }
   },
   "outputs": [
    {
     "data": {
      "text/plain": [
       "[<matplotlib.lines.Line2D at 0xadee5970>]"
      ]
     },
     "execution_count": 12,
     "metadata": {},
     "output_type": "execute_result"
    },
    {
     "data": {
      "image/png": "[encoded data removed]",
      "text/plain": [
       "<matplotlib.figure.Figure at 0xadf79cf0>"
      ]
     },
     "metadata": {},
     "output_type": "display_data"
    }
   ],
   "source": [
    "fig, P1= plt.subplots() \n",
    "P1.plot(t, Output)"
   ]
  }
 ],
 "metadata": {
  "kernelspec": {
   "display_name": "Python 3",
   "language": "python",
   "name": "python3"
  },
  "language_info": {
   "codemirror_mode": {
    "name": "ipython",
    "version": 3
   },
   "file_extension": ".py",
   "mimetype": "text/x-python",
   "name": "python",
   "nbconvert_exporter": "python",
   "pygments_lexer": "ipython3",
   "version": "3.6.5"
  },
  "varInspector": {
   "cols": {
    "lenName": 16,
    "lenType": 16,
    "lenVar": 40
   },
   "kernels_config": {
    "python": {
     "delete_cmd_postfix": "",
     "delete_cmd_prefix": "del ",
     "library": "var_list.py",
     "varRefreshCmd": "print(var_dic_list())"
    },
    "r": {
     "delete_cmd_postfix": ") ",
     "delete_cmd_prefix": "rm(",
     "library": "var_list.r",
     "varRefreshCmd": "cat(var_dic_list()) "
    }
   },
   "types_to_exclude": [
    "module",
    "function",
    "builtin_function_or_method",
    "instance",
    "_Feature"
   ],
   "window_display": false
  }
 },
 "nbformat": 4,
 "nbformat_minor": 2
}
