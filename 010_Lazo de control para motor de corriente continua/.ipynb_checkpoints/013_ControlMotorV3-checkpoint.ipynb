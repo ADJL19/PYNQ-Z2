{
 "cells": [
  {
   "cell_type": "markdown",
   "metadata": {},
   "source": [
    "BASURA QUE CORRE POR DETRÁS"
   ]
  },
  {
   "cell_type": "code",
   "execution_count": 1,
   "metadata": {},
   "outputs": [
    {
     "data": {
      "application/javascript": [
       "\n",
       "try {\n",
       "require(['notebook/js/codecell'], function(codecell) {\n",
       "  codecell.CodeCell.options_default.highlight_modes[\n",
       "      'magic_text/x-csrc'] = {'reg':[/^%%microblaze/]};\n",
       "  Jupyter.notebook.events.one('kernel_ready.Kernel', function(){\n",
       "      Jupyter.notebook.get_cells().map(function(cell){\n",
       "          if (cell.cell_type == 'code'){ cell.auto_highlight(); } }) ;\n",
       "  });\n",
       "});\n",
       "} catch (e) {};\n"
      ]
     },
     "metadata": {},
     "output_type": "display_data"
    },
    {
     "data": {
      "application/javascript": [
       "\n",
       "try {\n",
       "require(['notebook/js/codecell'], function(codecell) {\n",
       "  codecell.CodeCell.options_default.highlight_modes[\n",
       "      'magic_text/x-csrc'] = {'reg':[/^%%pybind11/]};\n",
       "  Jupyter.notebook.events.one('kernel_ready.Kernel', function(){\n",
       "      Jupyter.notebook.get_cells().map(function(cell){\n",
       "          if (cell.cell_type == 'code'){ cell.auto_highlight(); } }) ;\n",
       "  });\n",
       "});\n",
       "} catch (e) {};\n"
      ]
     },
     "metadata": {},
     "output_type": "display_data"
    }
   ],
   "source": [
    "from jupyterplot import ProgressPlot\n",
    "\n",
    "#Importamos y cargamos el overlay para la FPGA\n",
    "from pynq import Overlay\n",
    "base = Overlay(\"/home/xilinx/jupyter_notebooks/MisCosas/Config/PIDMotorV2.bit\")\n",
    "\n",
    "#Importamos la librería para trabajar con el AXIGPIO\n",
    "from pynq.lib import AxiGPIO\n",
    "\n",
    "#Importamos la librería para poder graficar el resultado y otra librería para realizar un delay.\n",
    "import matplotlib.pyplot as plt\n",
    "import time"
   ]
  },
  {
   "cell_type": "code",
   "execution_count": 2,
   "metadata": {},
   "outputs": [],
   "source": [
    "AXIGPIO0=base.ip_dict['axi_gpio_0']\n",
    "SP=AxiGPIO(AXIGPIO0).channel1\n",
    "reset=SP[9:10]\n",
    "RPM=AxiGPIO(AXIGPIO0).channel2\n",
    "\n",
    "AXIGPIO1=base.ip_dict['axi_gpio_1']\n",
    "P=AxiGPIO(AXIGPIO1).channel1\n",
    "ITs=AxiGPIO(AXIGPIO1).channel2\n",
    "\n",
    "AXIGPIO2=base.ip_dict['axi_gpio_2']\n",
    "ERROR=AxiGPIO(AXIGPIO2).channel1\n",
    "CV=AxiGPIO(AXIGPIO2).channel2"
   ]
  },
  {
   "cell_type": "code",
   "execution_count": 3,
   "metadata": {},
   "outputs": [],
   "source": [
    "def ToBinary(IN, NBits):\n",
    "    B=[]\n",
    "    while(IN>1):\n",
    "        B.append(IN%2)\n",
    "        IN=IN//2\n",
    "    B.append(IN)\n",
    "    while(len(B)<NBits):\n",
    "        B.append(0)\n",
    "        \n",
    "    return B"
   ]
  },
  {
   "cell_type": "code",
   "execution_count": 4,
   "metadata": {},
   "outputs": [],
   "source": [
    "def ToDecimalBinary(IN, ParteEntera):\n",
    "    B=[]\n",
    "    for i in range(0, ParteEntera):\n",
    "        PM=IN-2**(-i-1)\n",
    "        if(PM>=0): \n",
    "            B.append(1)\n",
    "            IN=PM\n",
    "        else: B.append(0)\n",
    "            \n",
    "    return B"
   ]
  },
  {
   "cell_type": "code",
   "execution_count": 5,
   "metadata": {},
   "outputs": [],
   "source": [
    "def ToDecimalEntero(IN):\n",
    "    DE=0\n",
    "    for i in range(len(IN)-1, -1, -1):\n",
    "        DE+=(2**i)*IN[i]\n",
    "        \n",
    "    return DE"
   ]
  },
  {
   "cell_type": "code",
   "execution_count": 6,
   "metadata": {},
   "outputs": [],
   "source": [
    "def InvertBinary(IN):\n",
    "    B=[]\n",
    "    for i in range(len(IN)-1, -1, -1):\n",
    "        B.append(IN[i])\n",
    "        \n",
    "    return B"
   ]
  },
  {
   "cell_type": "code",
   "execution_count": 7,
   "metadata": {},
   "outputs": [],
   "source": [
    "def ComprobarRango(IN, VMax, VMin):\n",
    "    if IN<=VMax and IN>=VMin:\n",
    "        return True\n",
    "    else:\n",
    "        return False"
   ]
  },
  {
   "cell_type": "code",
   "execution_count": 8,
   "metadata": {},
   "outputs": [],
   "source": [
    "def CC2(IN, signo):\n",
    "    if signo:\n",
    "        IN = ToBinary(IN-1, 1)\n",
    "        IN = [not IN[i] for i in range(0,len(IN))]\n",
    "    else:\n",
    "        IN = ToBinary(IN, 1)\n",
    "        \n",
    "    if signo:\n",
    "        return -1*ToDecimalEntero(IN)\n",
    "    else:\n",
    "        return ToDecimalEntero(IN)"
   ]
  },
  {
   "cell_type": "code",
   "execution_count": 9,
   "metadata": {},
   "outputs": [],
   "source": [
    "def hacerSP(IN, Ts):\n",
    "    VECTOR=[int(IN[j]*0.3) for j in range(0,len(IN)-1,2) for i in range(0, int((IN[j+1])/Ts))]\n",
    "    return VECTOR"
   ]
  },
  {
   "cell_type": "markdown",
   "metadata": {},
   "source": [
    "DATOS"
   ]
  },
  {
   "cell_type": "code",
   "execution_count": 10,
   "metadata": {},
   "outputs": [],
   "source": [
    "Ts=1 #s"
   ]
  },
  {
   "cell_type": "markdown",
   "metadata": {},
   "source": [
    "SIN GRÁFICA"
   ]
  },
  {
   "cell_type": "code",
   "execution_count": 13,
   "metadata": {
    "scrolled": true
   },
   "outputs": [
    {
     "name": "stdout",
     "output_type": "stream",
     "text": [
      "RPM: 500\n",
      "P: 13\n",
      "KI: 1\n"
     ]
    }
   ],
   "source": [
    "Consigna=float(input(\"RPM: \"))\n",
    "CteP=float(input(\"P: \"))\n",
    "CteI=float(input(\"KI: \"))"
   ]
  },
  {
   "cell_type": "code",
   "execution_count": 14,
   "metadata": {},
   "outputs": [],
   "source": [
    "if ComprobarRango(Consigna, 500, 50) and ComprobarRango(CteP, 15.9997, 0) and ComprobarRango(CteI, 1.9999, 0):\n",
    "    SSPP=int(Consigna*0.3)\n",
    "    PP=int(ToDecimalEntero(InvertBinary(InvertBinary(ToBinary(CteP//1, 4))+ToDecimalBinary(CteP-CteP//1, 12))))\n",
    "    PI=int(ToDecimalEntero(InvertBinary(InvertBinary(ToBinary(CteI//1, 1))+ToDecimalBinary(CteI-CteI//1, 15))))\n",
    "\n",
    "    SP[0:8].write(SSPP)\n",
    "    P[0:16].write(PP)\n",
    "    ITs[0:16].write(PI)\n",
    "else:\n",
    "    print(\"CAGASTE\")"
   ]
  },
  {
   "cell_type": "markdown",
   "metadata": {},
   "source": [
    "CON GRÁFICA"
   ]
  },
  {
   "cell_type": "code",
   "execution_count": 14,
   "metadata": {},
   "outputs": [
    {
     "name": "stdout",
     "output_type": "stream",
     "text": [
      "P: 12\n",
      "KI: 1.6\n"
     ]
    }
   ],
   "source": [
    "CteP=float(input(\"P: \"))\n",
    "CteI=float(input(\"KI: \"))"
   ]
  },
  {
   "cell_type": "code",
   "execution_count": 15,
   "metadata": {},
   "outputs": [],
   "source": [
    "if ComprobarRango(CteP, 15.9997, 0) and ComprobarRango(CteI, 1.9999, 0):\n",
    "    PP=int(ToDecimalEntero(InvertBinary(InvertBinary(ToBinary(CteP//1, 4))+ToDecimalBinary(CteP-CteP//1, 12))))\n",
    "    PI=int(ToDecimalEntero(InvertBinary(InvertBinary(ToBinary(CteI//1, 1))+ToDecimalBinary(CteI-CteI//1, 15))))\n",
    "\n",
    "    P[0:16].write(PP)\n",
    "    ITs[0:16].write(PI)\n",
    "else:\n",
    "    raise ValueError(\"Fuera de rango\")"
   ]
  },
  {
   "cell_type": "code",
   "execution_count": 16,
   "metadata": {},
   "outputs": [
    {
     "name": "stdout",
     "output_type": "stream",
     "text": [
      "Valor SP: 500\n",
      "Cuánto tiempo: 10\n",
      "¿Más? y/n: y\n",
      "Valor SP: 450\n",
      "Cuánto tiempo: 10\n",
      "¿Más? y/n: y\n",
      "Valor SP: 475\n",
      "Cuánto tiempo: 10\n",
      "¿Más? y/n: y\n",
      "Valor SP: 500\n",
      "Cuánto tiempo: 10\n",
      "¿Más? y/n: n\n"
     ]
    }
   ],
   "source": [
    "SSPP=[]\n",
    "\n",
    "while True:\n",
    "    Consigna=int(input(\"Valor SP: \"))\n",
    "    tiempo=int(input(\"Cuánto tiempo: \"))\n",
    "    \n",
    "    if not ComprobarRango(Consigna, 500, 50):\n",
    "        print(\"CAGASTE\")\n",
    "        continue\n",
    "    \n",
    "    SSPP=SSPP+[Consigna, tiempo]\n",
    "    \n",
    "    if input(\"¿Más? y/n: \")=='n':\n",
    "        break"
   ]
  },
  {
   "cell_type": "code",
   "execution_count": 32,
   "metadata": {},
   "outputs": [
    {
     "name": "stdout",
     "output_type": "stream",
     "text": [
      "CPU times: user 30.3 ms, sys: 9.59 ms, total: 39.9 ms\n",
      "Wall time: 1min 10s\n"
     ]
    }
   ],
   "source": [
    "%%time\n",
    "i=0\n",
    "PFF=hacerSP(SSPP, Ts)\n",
    "\n",
    "t=[]\n",
    "ProcessValue=[]\n",
    "ControlValue=[]\n",
    "SetPoint=[]\n",
    "Diferencia=[]\n",
    "\n",
    "SP[0:8].write(PFF[0])\n",
    "SP[9:10].write(1)\n",
    "\n",
    "for i in range(0,len(PFF)):\n",
    "    SP[0:8].write(PFF[i])\n",
    "    \n",
    "    t.append(i)\n",
    "    ProcessValue.append(RPM.read())\n",
    "    ControlValue.append(CV.read())\n",
    "    SetPoint.append(PFF[i])\n",
    "    Diferencia.append(ERROR.read())\n",
    "    \n",
    "    time.sleep(Ts)\n",
    "    \n",
    "reset.write(0)"
   ]
  },
  {
   "cell_type": "code",
   "execution_count": 20,
   "metadata": {},
   "outputs": [],
   "source": [
    "reset.write(0)"
   ]
  },
  {
   "cell_type": "code",
   "execution_count": null,
   "metadata": {},
   "outputs": [],
   "source": [
    "pp=ProgressPlot(line_names=[\"RPM\", \"CV\", \"SP\", \"ERROR\"], x_lim=[0, 15], y_lim=[-10, 10])\n",
    "\n",
    "PFF=hacerSP(SSPP, Ts)\n",
    "SP[0:8].write(PFF[0])\n",
    "reset.write(1)\n",
    "\n",
    "for i in range(0,len(PFF)):\n",
    "    a=time.time()\n",
    "    SP[0:8].write(PFF[i])\n",
    "\n",
    "    pp.update([[RPM.read(), CV.read()/16, PFF[i], CC2(ERROR.read(),ERROR.read()>32767)/128]])\n",
    "\n",
    "    b=time.time()\n",
    "    time.sleep(Ts)#-(b-a))\n",
    "\n",
    "reset.write(0)"
   ]
  }
 ],
 "metadata": {
  "kernelspec": {
   "display_name": "Python 3 (ipykernel)",
   "language": "python",
   "name": "python3"
  },
  "language_info": {
   "codemirror_mode": {
    "name": "ipython",
    "version": 3
   },
   "file_extension": ".py",
   "mimetype": "text/x-python",
   "name": "python",
   "nbconvert_exporter": "python",
   "pygments_lexer": "ipython3",
   "version": "3.10.4"
  }
 },
 "nbformat": 4,
 "nbformat_minor": 2
}
