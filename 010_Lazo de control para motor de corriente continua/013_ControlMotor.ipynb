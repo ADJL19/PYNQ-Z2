{
 "cells": [
  {
   "cell_type": "code",
   "execution_count": 7,
   "metadata": {},
   "outputs": [],
   "source": [
    "from pynq import Overlay\n",
    "base = Overlay(\"/home/xilinx/jupyter_notebooks/MisCosas/Config/ControlMotor.bit\")\n",
    "\n",
    "from pynq.lib import AxiGPIO\n",
    "\n",
    "import matplotlib.pyplot as plt\n",
    "import time"
   ]
  },
  {
   "cell_type": "code",
   "execution_count": 27,
   "metadata": {},
   "outputs": [],
   "source": [
    "AXIGPIO0=base.ip_dict['axi_gpio_0']\n",
    "SP=AxiGPIO(AXIGPIO0).channel1\n",
    "RPM=AxiGPIO(AXIGPIO0).channel2\n",
    "\n",
    "AXIGPIO1=base.ip_dict['axi_gpio_1']\n",
    "P=AxiGPIO(AXIGPIO1).channel1\n",
    "ITs=AxiGPIO(AXIGPIO1).channel2\n",
    "\n",
    "AXIGPIO2=base.ip_dict['axi_gpio_2']\n",
    "ERROR=AxiGPIO(AXIGPIO2).channel1\n",
    "CV=AxiGPIO(AXIGPIO2).channel2"
   ]
  },
  {
   "cell_type": "code",
   "execution_count": 2,
   "metadata": {},
   "outputs": [],
   "source": [
    "def ToBinary(IN, NBits):\n",
    "    B=[]\n",
    "    while(IN>1):\n",
    "        B.append(IN%2)\n",
    "        IN=IN//2\n",
    "    B.append(IN)\n",
    "        \n",
    "    while(len(B)<NBits):\n",
    "        B.append(0)\n",
    "        \n",
    "    return B"
   ]
  },
  {
   "cell_type": "code",
   "execution_count": 3,
   "metadata": {},
   "outputs": [],
   "source": [
    "def ToDecimalBinary(IN, ParteEntera):\n",
    "    B=[]\n",
    "    for i in range(0, ParteEntera):\n",
    "        PM=IN-2**(-i-1)\n",
    "        if(PM>=0): \n",
    "            B.append(1)\n",
    "            IN=PM\n",
    "        else: B.append(0)\n",
    "            \n",
    "    return B"
   ]
  },
  {
   "cell_type": "code",
   "execution_count": 4,
   "metadata": {},
   "outputs": [],
   "source": [
    "def ToDecimalEntero(IN):\n",
    "    DE=0\n",
    "    for i in range(len(IN)-1, -1, -1):\n",
    "        DE+=(2**i)*IN[i]\n",
    "        \n",
    "    return DE"
   ]
  },
  {
   "cell_type": "code",
   "execution_count": 5,
   "metadata": {},
   "outputs": [],
   "source": [
    "def InvertBinary(IN):\n",
    "    B=[]\n",
    "    for i in range(len(IN)-1, -1, -1):\n",
    "        B.append(IN[i])\n",
    "        \n",
    "    return B"
   ]
  },
  {
   "cell_type": "code",
   "execution_count": 14,
   "metadata": {},
   "outputs": [],
   "source": [
    "def ComprobarRango(IN, VMax, VMin):\n",
    "    if IN<VMax and IN>VMin:\n",
    "        return True\n",
    "    else:\n",
    "        return False"
   ]
  },
  {
   "cell_type": "code",
   "execution_count": 18,
   "metadata": {},
   "outputs": [
    {
     "name": "stdout",
     "output_type": "stream",
     "text": [
      "RPM: 12\n",
      "P: 12\n",
      "KI: 12\n",
      "CAGASTE\n"
     ]
    }
   ],
   "source": [
    "Consigna=float(input(\"RPM: \"))\n",
    "CteP=float(input(\"P: \"))\n",
    "CteI=float(input(\"KI: \"))\n",
    "\n",
    "if ComprobarRango(Consigna, 500, 50) and ComprobarRango(CteP, 19, 0) and ComprobarRango(CteI, 1, 0):\n",
    "    SSPP=int(Consigna*0.3)\n",
    "    PP=ToDecimalEntero(InvertBinary(InvertBinary(ToBinary(CteP//1, 4))+ToDecimalBinary(CteP-CteP//1, 12)))\n",
    "    PI=ToDecimalEntero(InvertBinary(InvertBinary(ToBinary(CteI//1, 1))+ToDecimalBinary(CteI-CteI//1, 15)))\n",
    "    \n",
    "    SP[:].write(SSPP)\n",
    "    P[:].write(PP)\n",
    "    ITs[:].write(PI)\n",
    "else:\n",
    "    print(\"CAGASTE\")"
   ]
  },
  {
   "cell_type": "code",
   "execution_count": null,
   "metadata": {},
   "outputs": [],
   "source": [
    "ProcessValue=[]\n",
    "ControlValue=[]\n",
    "SetPoint=[]\n",
    "Diferencia=[]\n",
    "\n",
    "for i in range(0,100):\n",
    "    ProcessValue.append(RPM.read())\n",
    "    ControlValue.append(CV.read())\n",
    "    SetPoint.append(SSPP)\n",
    "    Diferencia.append(ERROR.read())\n",
    "    \n",
    "    sleep(0.1)"
   ]
  },
  {
   "cell_type": "code",
   "execution_count": null,
   "metadata": {},
   "outputs": [],
   "source": []
  }
 ],
 "metadata": {
  "kernelspec": {
   "display_name": "Python 3 (ipykernel)",
   "language": "python",
   "name": "python3"
  },
  "language_info": {
   "codemirror_mode": {
    "name": "ipython",
    "version": 3
   },
   "file_extension": ".py",
   "mimetype": "text/x-python",
   "name": "python",
   "nbconvert_exporter": "python",
   "pygments_lexer": "ipython3",
   "version": "3.10.4"
  }
 },
 "nbformat": 4,
 "nbformat_minor": 2
}
