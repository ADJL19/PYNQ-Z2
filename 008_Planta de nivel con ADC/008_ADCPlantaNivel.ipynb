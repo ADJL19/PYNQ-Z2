{
 "cells": [
  {
   "cell_type": "markdown",
   "metadata": {},
   "source": [
    "PROGAMACIÓN DE LA LÓGICA PROGRAMABLE E IMPORTACIÓN DE LIBRERÍAS"
   ]
  },
  {
   "cell_type": "code",
   "execution_count": 44,
   "metadata": {},
   "outputs": [],
   "source": [
    "from pynq import Overlay\n",
    "base = Overlay(\"/home/xilinx/jupyter_notebooks/MisCosas/Config/ADCPlantaNivel.bit\")\n",
    "\n",
    "from pynq.lib import AxiGPIO\n",
    "\n",
    "import matplotlib.pyplot as plt\n",
    "import time"
   ]
  },
  {
   "cell_type": "markdown",
   "metadata": {},
   "source": [
    "DECLARACIÓN DE CONSTANTES"
   ]
  },
  {
   "cell_type": "code",
   "execution_count": 74,
   "metadata": {},
   "outputs": [],
   "source": [
    "Nbits=16\n",
    "ParteEntera=9\n",
    "Escalon=0\n",
    "Tiempo=90"
   ]
  },
  {
   "cell_type": "markdown",
   "metadata": {},
   "source": [
    "FUNCIONES PARA EL TRATAMIENTO DE LOS NÚMEROS"
   ]
  },
  {
   "cell_type": "code",
   "execution_count": 46,
   "metadata": {},
   "outputs": [],
   "source": [
    "def ToBinary(IN):\n",
    "    B=[]\n",
    "    while(IN>1):\n",
    "        B.append(IN%2)\n",
    "        IN=IN//2\n",
    "    B.append(IN)\n",
    "        \n",
    "    while(len(B)<Nbits):\n",
    "        B.append(0)\n",
    "        \n",
    "    return B"
   ]
  },
  {
   "cell_type": "code",
   "execution_count": 47,
   "metadata": {},
   "outputs": [],
   "source": [
    "def ToDecimalBinary(IN):\n",
    "    B=[]\n",
    "    for i in range(0, ParteEntera):\n",
    "        PM=IN-2**(-i-1)\n",
    "        if(PM>=0): \n",
    "            B.append(1)\n",
    "            IN=PM\n",
    "        else: B.append(0)\n",
    "            \n",
    "    return B"
   ]
  },
  {
   "cell_type": "code",
   "execution_count": 48,
   "metadata": {},
   "outputs": [],
   "source": [
    "def InvertBinary(IN):\n",
    "    B=[]\n",
    "    for i in range(len(IN)-1, -1, -1):\n",
    "        B.append(IN[i])\n",
    "        \n",
    "    return B"
   ]
  },
  {
   "cell_type": "code",
   "execution_count": 49,
   "metadata": {},
   "outputs": [],
   "source": [
    "def ToDecimalEntero(IN):\n",
    "    DE=0\n",
    "    for i in range(len(IN)-1, -1, -1):\n",
    "        DE+=(2**i)*IN[i]\n",
    "        \n",
    "    return DE"
   ]
  },
  {
   "cell_type": "code",
   "execution_count": 50,
   "metadata": {},
   "outputs": [],
   "source": [
    "def ToDecimalFraccional(IN):\n",
    "    DF=0\n",
    "    for i in range(len(IN)-1, -1, -1):\n",
    "        DF+=(2**(-i-1))*IN[i]\n",
    "        \n",
    "    return DF"
   ]
  },
  {
   "cell_type": "code",
   "execution_count": 51,
   "metadata": {},
   "outputs": [],
   "source": [
    "#Aparece esta nueva función, encargada de convertir el número digital proporcionado por \n",
    "#el XADC al valor analógico original.\n",
    "def ValorAnalogico(IN):\n",
    "    B=[]\n",
    "    B=ToBinary(IN);\n",
    "    #Se descartan 4-bits porque la conversión es de 12-bits.\n",
    "    VA=ToDecimalEntero(B[4:17])\n",
    "    #4095=2^(12)-1 \n",
    "    VA=VA/4095\n",
    "    \n",
    "    return VA"
   ]
  },
  {
   "cell_type": "markdown",
   "metadata": {},
   "source": [
    "ACCESO A LOS BLOQUES AXI GPIO"
   ]
  },
  {
   "cell_type": "code",
   "execution_count": 52,
   "metadata": {},
   "outputs": [],
   "source": [
    "BloqPlanta=base.ip_dict['axi_gpio_0']\n",
    "PV=AxiGPIO(BloqPlanta).channel1\n",
    "CanalDeSalida=AxiGPIO(BloqPlanta).channel2\n",
    "SP=CanalDeSalida[0:16]\n",
    "ResetAvisador=CanalDeSalida[16:17]\n",
    "\n",
    "BloqADC=base.ip_dict['axi_gpio_1']\n",
    "Aviso=AxiGPIO(BloqADC).channel1\n",
    "XADC=AxiGPIO(BloqADC).channel2"
   ]
  },
  {
   "cell_type": "markdown",
   "metadata": {},
   "source": [
    "# PROGRAMA"
   ]
  },
  {
   "cell_type": "markdown",
   "metadata": {},
   "source": [
    "SIMULACIÓN CON GRÁFICA A TIEMPO NO REAL"
   ]
  },
  {
   "cell_type": "code",
   "execution_count": 79,
   "metadata": {},
   "outputs": [],
   "source": [
    "Escalon=0\n",
    "BE=InvertBinary(ToBinary(int(Escalon//1))[0:Nbits-ParteEntera])+ToDecimalBinary(Escalon-Escalon//1)\n",
    "SP.write(ToDecimalEntero(InvertBinary(BE)))"
   ]
  },
  {
   "cell_type": "code",
   "execution_count": 80,
   "metadata": {},
   "outputs": [],
   "source": [
    "x, y, t=[]\n",
    "\n",
    "for i in range(Tiempo):\n",
    "    ResetAvisador.write(1)\n",
    "    \n",
    "    #Obtenemos el valor analógico presente en el XADC ya en el rango [0, 100] \n",
    "    Escalon=ValorAnalogico(XADC.read())*100\n",
    "    \n",
    "    BE=InvertBinary(ToBinary(int(Escalon//1))[0:Nbits-ParteEntera])+ToDecimalBinary(Escalon-Escalon//1)\n",
    "    SP.write(ToDecimalEntero(InvertBinary(BE)))\n",
    "    \n",
    "    t.append(i)\n",
    "    x.append(Escalon)\n",
    "    y.append(PV.read())\n",
    "    \n",
    "    #Como la señal Aviso tiene un oeríodo de 1s, no es necesario realizar un time.sleep(1), tan solo esperar\n",
    "    #a que esta señal esté a '1'.\n",
    "    while(Aviso.read()!=1):\n",
    "        time.sleep(0.05)\n",
    "        \n",
    "    ResetAvisador.write(0)\n",
    "    \n",
    "Input=x"
   ]
  },
  {
   "cell_type": "code",
   "execution_count": 81,
   "metadata": {},
   "outputs": [],
   "source": [
    "Output=[]\n",
    "for i in range(len(y)):\n",
    "    #Pasamos a binario la lectura de la FPGA.\n",
    "    S=ToBinary(y[i])\n",
    "    #Para la parte entera eliminamos los bits decimales, del 0 hasta el 8.\n",
    "    #Para la parte decimal eliminamos los bits enteros, del 9 hasta el 15.\n",
    "    Output.append(ToDecimalEntero(S[ParteEntera:Nbits])+ToDecimalFraccional(InvertBinary(S[0:ParteEntera])))"
   ]
  },
  {
   "cell_type": "code",
   "execution_count": null,
   "metadata": {},
   "outputs": [],
   "source": [
    "fig, P1= plt.subplots() \n",
    "P1.plot(t, x, \"b\", label=\"CV\")\n",
    "P1.plot(t, Output, \"r\", label=\"PV\")\n",
    "plt.xlim(0, Tiempo)\n",
    "plt.ylim(0, 100)\n",
    "plt.legend(loc = \"best\")\n",
    "plt.title('Planta de control de nivel')\n",
    "plt.xlabel(\"Tiempo (s)\")\n",
    "plt.ylabel(\"Nivel (%)\");"
   ]
  }
 ],
 "metadata": {
  "kernelspec": {
   "display_name": "Python 3 (ipykernel)",
   "language": "python",
   "name": "python3"
  },
  "language_info": {
   "codemirror_mode": {
    "name": "ipython",
    "version": 3
   },
   "file_extension": ".py",
   "mimetype": "text/x-python",
   "name": "python",
   "nbconvert_exporter": "python",
   "pygments_lexer": "ipython3",
   "version": "3.10.4"
  },
  "varInspector": {
   "cols": {
    "lenName": 16,
    "lenType": 16,
    "lenVar": 40
   },
   "kernels_config": {
    "python": {
     "delete_cmd_postfix": "",
     "delete_cmd_prefix": "del ",
     "library": "var_list.py",
     "varRefreshCmd": "print(var_dic_list())"
    },
    "r": {
     "delete_cmd_postfix": ") ",
     "delete_cmd_prefix": "rm(",
     "library": "var_list.r",
     "varRefreshCmd": "cat(var_dic_list()) "
    }
   },
   "types_to_exclude": [
    "module",
    "function",
    "builtin_function_or_method",
    "instance",
    "_Feature"
   ],
   "window_display": false
  }
 },
 "nbformat": 4,
 "nbformat_minor": 2
}
