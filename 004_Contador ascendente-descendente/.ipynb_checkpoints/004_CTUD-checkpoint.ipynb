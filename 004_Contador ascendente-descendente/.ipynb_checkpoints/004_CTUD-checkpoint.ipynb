{
 "cells": [
  {
   "cell_type": "markdown",
   "id": "9b73da1d",
   "metadata": {},
   "source": [
    "PROGRAMACIÓN DE LA LÓGICA PROGRAMABLE E IMPORTACIÓN DE LIBRERÍAS"
   ]
  },
  {
   "cell_type": "code",
   "execution_count": null,
   "id": "ad9e5cbe",
   "metadata": {},
   "outputs": [],
   "source": [
    "#Para la carga del overlay se usa esta vez la clase Overlay.\n",
    "from pynq import Overlay\n",
    "#La instanciación necesita conocer la ruta completa y el nombre del archivo.\n",
    "ov = Overlay(\"/home/xilinx/jupyter_notebooks/MisCosas/Config/CTUDII.bit\")\n",
    "\n",
    "#Para la comunicación PS-PL se usaron los IP del controlador AXI GPIO. \n",
    "#Se importa la clase AxiGPIO para emplear sus métodos de escritura y lectura.\n",
    "from pynq.lib import AxiGPIO\n",
    "\n",
    "from time import sleep"
   ]
  },
  {
   "cell_type": "markdown",
   "id": "b593787a",
   "metadata": {},
   "source": [
    "ACCESO AL BLOQUE AXI GPIO"
   ]
  },
  {
   "cell_type": "code",
   "execution_count": null,
   "id": "9f390b4a",
   "metadata": {},
   "outputs": [],
   "source": [
    "#Se obtiene información relacionada con el controlador AXI GPIO denominado axi_gpio_0. \n",
    "#Esta información contiene la dirección física, el tipo de driver y etc\n",
    "PSPL=ov.ip_dict['axi_gpio_0']\n",
    "\n",
    "#Se crean instancias de la clase AxiGPIO al pasarle el nombre del controlador AXI GPIO.\n",
    "BTN=AxiGPIO(PSPL).channel2 #Esta será la entrada de la PS donde está el valor de los botones. \n",
    "RGB=AxiGPIO(PSPL).channel1 #Salida del controlador hacia los LEDs triestado."
   ]
  },
  {
   "cell_type": "markdown",
   "id": "f2e4d82c",
   "metadata": {},
   "source": [
    " "
   ]
  },
  {
   "cell_type": "code",
   "execution_count": null,
   "id": "73c51bd0",
   "metadata": {},
   "outputs": [],
   "source": [
    "#Para seccionar la información leída se aplica una máscara. De esta forma se obtiene el 4ato bit, equivalente al\n",
    "#cuarto botón.\n",
    "print(BTN.read() & 0x10)"
   ]
  },
  {
   "cell_type": "code",
   "execution_count": null,
   "id": "9468f2b5",
   "metadata": {},
   "outputs": [],
   "source": [
    "#Mientras la lectura de lo botones sea inferior a 9, es decir, no se realice una pulsación \n",
    "#en BTN3 (valor 8) y cualquier otro botón, esta se volcará hacia los RGBs.\n",
    "while BTN.read()<9:\n",
    "    RGB[0:6].write(BTN.read())\n",
    "    sleep(0.1)"
   ]
  }
 ],
 "metadata": {
  "kernelspec": {
   "display_name": "Python 3 (ipykernel)",
   "language": "python",
   "name": "python3"
  },
  "language_info": {
   "codemirror_mode": {
    "name": "ipython",
    "version": 3
   },
   "file_extension": ".py",
   "mimetype": "text/x-python",
   "name": "python",
   "nbconvert_exporter": "python",
   "pygments_lexer": "ipython3",
   "version": "3.10.4"
  }
 },
 "nbformat": 4,
 "nbformat_minor": 5
}
