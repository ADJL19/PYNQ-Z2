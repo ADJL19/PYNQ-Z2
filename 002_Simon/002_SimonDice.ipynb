{
 "cells": [
  {
   "cell_type": "markdown",
   "metadata": {},
   "source": [
    "PROGRAMACIÓN DE LA LÓGICA PROGRAMABLE E IMPORTACIÓN DE LIBRERÍAS"
   ]
  },
  {
   "cell_type": "code",
   "execution_count": 1,
   "metadata": {
    "ExecuteTime": {
     "end_time": "2022-05-06T14:18:54.821993Z",
     "start_time": "2022-05-06T14:18:43.097498Z"
    }
   },
   "outputs": [
    {
     "data": {
      "application/javascript": [
       "\n",
       "try {\n",
       "require(['notebook/js/codecell'], function(codecell) {\n",
       "  codecell.CodeCell.options_default.highlight_modes[\n",
       "      'magic_text/x-csrc'] = {'reg':[/^%%microblaze/]};\n",
       "  Jupyter.notebook.events.one('kernel_ready.Kernel', function(){\n",
       "      Jupyter.notebook.get_cells().map(function(cell){\n",
       "          if (cell.cell_type == 'code'){ cell.auto_highlight(); } }) ;\n",
       "  });\n",
       "});\n",
       "} catch (e) {};\n"
      ]
     },
     "metadata": {},
     "output_type": "display_data"
    },
    {
     "data": {
      "application/javascript": [
       "\n",
       "try {\n",
       "require(['notebook/js/codecell'], function(codecell) {\n",
       "  codecell.CodeCell.options_default.highlight_modes[\n",
       "      'magic_text/x-csrc'] = {'reg':[/^%%pybind11/]};\n",
       "  Jupyter.notebook.events.one('kernel_ready.Kernel', function(){\n",
       "      Jupyter.notebook.get_cells().map(function(cell){\n",
       "          if (cell.cell_type == 'code'){ cell.auto_highlight(); } }) ;\n",
       "  });\n",
       "});\n",
       "} catch (e) {};\n"
      ]
     },
     "metadata": {},
     "output_type": "display_data"
    }
   ],
   "source": [
    "from pynq.overlays.base import BaseOverlay\n",
    "base = BaseOverlay(\"base.bit\")\n",
    "\n",
    "from time import sleep\n",
    "\n",
    "#Esta librería permite la generación de números aleatorios\n",
    "import random"
   ]
  },
  {
   "cell_type": "markdown",
   "metadata": {},
   "source": [
    "DECLARACIÓN DE LOS ELEMENTOS DE LA PLACA"
   ]
  },
  {
   "cell_type": "code",
   "execution_count": 2,
   "metadata": {
    "ExecuteTime": {
     "end_time": "2022-05-06T14:19:05.857948Z",
     "start_time": "2022-05-06T14:19:05.786701Z"
    }
   },
   "outputs": [],
   "source": [
    "#Se accederá a LEDs, botones e interruptores aplicando lo mismo que en el proyecto anterior.\n",
    "MAX_LEDS=4\n",
    "leds=[base.leds[index] for index in range(MAX_LEDS)]\n",
    "\n",
    "MAX_SW=2\n",
    "switches=[base.switches[index] for index in range(MAX_SW)]\n",
    "\n",
    "MAX_BTN=4\n",
    "buttons=[base.buttons[index] for index in range(MAX_BTN)]\n",
    "\n",
    "MAX_RGB=2\n",
    "RGB=[base.rgbleds[index] for index in range(MAX_LEDS, MAX_LEDS+MAX_RGB)]"
   ]
  },
  {
   "cell_type": "markdown",
   "metadata": {},
   "source": [
    "# PROGRAMA"
   ]
  },
  {
   "cell_type": "markdown",
   "metadata": {},
   "source": [
    "SIMON"
   ]
  },
  {
   "cell_type": "code",
   "execution_count": 4,
   "metadata": {
    "ExecuteTime": {
     "end_time": "2022-05-06T14:26:33.934229Z",
     "start_time": "2022-05-06T14:19:18.420253Z"
    }
   },
   "outputs": [
    {
     "name": "stdout",
     "output_type": "stream",
     "text": [
      "Llevas 3 puntos.\n",
      "Llevas 6 puntos.\n",
      "Llevas 9 puntos.\n",
      "Llevas 12 puntos.\n",
      "Llevas 15 puntos.\n",
      "Tu puntuación es de: 17 puntos.\n"
     ]
    }
   ],
   "source": [
    "#Argumento para encender los RGBs en el color verde y rojo: RGB[X].write(verde/rojo)\n",
    "verde, rojo = 2, 4\n",
    "\n",
    "#Se comprueba en el archivo Record.txt el valor máximo\n",
    "archivo=open('Record.txt', 'r')\n",
    "record=archivo.readlines()\n",
    "archivo.close()\n",
    "\n",
    "while True:\n",
    "    lista=[]\n",
    "    contador=1\n",
    "    Sigue, Bien = True, True\n",
    "\n",
    "    #Se recorren uno a uno todos los LEDs y se apagan.\n",
    "    for i in range(MAX_LEDS): leds[i].off()\n",
    "    for i in range(MAX_RGB): RGB[i].write(0)\n",
    "\n",
    "    sleep(.5)\n",
    "    #Se realiza una secuencia de inicio para informar al usuario de que el juego va a comenzar\n",
    "    for j in range(6):\n",
    "        for i in range(MAX_LEDS): \n",
    "            leds[i].toggle()\n",
    "            sleep(.125)\n",
    "    for i in range(MAX_LEDS): leds[i].off()\n",
    "\n",
    "    while Sigue:\n",
    "        #Se genera un número aleatorio entre 0 y 3. Este número indica el LED que se añade a la secuencia\n",
    "        lista.append(random.randint(0,3))\n",
    "        #Se va recorriendo la secuencia encendiendo el LED correspondiente.\n",
    "        for i in range(contador):\n",
    "            leds[lista[i]].on()\n",
    "            sleep(.5)\n",
    "            leds[lista[i]].off()\n",
    "            sleep(0.25)\n",
    "\n",
    "        #Para cada uno de los elementos de la secuencia se comprueba si el usuario enciende el LED adecuado.\n",
    "        for i in range(contador):\n",
    "            #Se espera a que el usuario pulse un botón.\n",
    "            while Sigue:\n",
    "                for j in range(4):\n",
    "                    if buttons[j].read(): \n",
    "                        leds[j].on()\n",
    "                        Sigue=False\n",
    "                        sleep(.25)\n",
    "                        break\n",
    "                        \n",
    "            #Si el botón pulsado no coincide con el valor de la secuencia, se informa al usuario (a través de los LEDs) y se abandonan los bucles.\n",
    "            if j!=lista[i]:\n",
    "                leds[j].off()\n",
    "                RGB[0].write(rojo)\n",
    "                RGB[1].write(rojo)\n",
    "                sleep(1)\n",
    "                break\n",
    "\n",
    "            Sigue=True\n",
    "            leds[j].off()\n",
    "            sleep(.5)\n",
    "\n",
    "        #Si la secuencia introducida fue correcta, se avisa al usuario (con los LEDs) y se añade una posición a la secuencia\n",
    "        if Sigue:\n",
    "            RGB[0].write(verde)\n",
    "            RGB[1].write(verde)\n",
    "            sleep(1)\n",
    "            RGB[0].write(0)\n",
    "            RGB[1].write(0)\n",
    "            contador+=1\n",
    "            if (contador-1)%3==0 and contador!=1: print('Llevas ' + str(contador-1) + ' puntos.')\n",
    "            \n",
    "            \n",
    "    print('Tu puntuación es de: ' + str(contador-1) + ' puntos.')\n",
    "    #Se comprueba si se superó algún récord\n",
    "    if (contador-1)>int(record[5]):\n",
    "        i=5\n",
    "        record[4:6]=[]\n",
    "        print(\"¡Batiste un récord!\")\n",
    "        if (contador-1)>int(record[1]):\n",
    "            i=1\n",
    "        elif (contador-1)>int(record[3]):\n",
    "            i=3\n",
    "        print(\"Estás en \" + str((i+1)//2) + \"º posición.\")\n",
    "        archivo=open('Record.txt', 'w')\n",
    "        record.insert(i-1, input('Cómo te llamas: ') + '\\n')\n",
    "        record.insert(i, str((contador-1)) + '\\n')\n",
    "        for i in range(6):\n",
    "            archivo.write(record[i])\n",
    "        archivo.close()\n",
    "            \n",
    "    #Cuando el juego finaliza, se espera una pulsación de un switch.\n",
    "    while not switches[0].read() and switches[1].read():\n",
    "        sleep(0.5)\n",
    "    \n",
    "    #El switch 0 apaga el juego. El 1 lo reinicia.\n",
    "    if not switches[0].read(): break\n",
    "        \n",
    "for i in range(MAX_RGB): RGB[i].off()\n",
    "for i in range(MAX_LEDS): leds[i].on()"
   ]
  },
  {
   "cell_type": "markdown",
   "metadata": {},
   "source": [
    "COMPROBACIÓN DE LOS RÉCORDS"
   ]
  },
  {
   "cell_type": "markdown",
   "metadata": {},
   "source": [
    "Si se accede al archivo Record.txt se podrá comprobar que la estructura de este es:\n",
    "    Nombre1\n",
    "    Puntuacion1\n",
    "    Nombre2\n",
    "    Puntuacion2\n",
    "    Nombre3\n",
    "    Puntuacion3\n",
    "\n",
    "De esta forma, con la instrucción readlines(), almacenamos en record cada una de las líneas, permitiéndonos acceder a\n",
    "ellas de forma independiente. A la hora de imprimirla en pantalla, se emplea rstrip() para eliminar el salto de línea."
   ]
  },
  {
   "cell_type": "code",
   "execution_count": 3,
   "metadata": {
    "ExecuteTime": {
     "end_time": "2022-05-06T14:19:13.036079Z",
     "start_time": "2022-05-06T14:19:12.975506Z"
    }
   },
   "outputs": [
    {
     "name": "stdout",
     "output_type": "stream",
     "text": [
      "El récord lo tiene AJDL con 24 acierto(s).\n",
      "La segunda posición es de AJDL con 24 acierto(s).\n",
      "El bronce es para AJDL con 17 acierto(s).\n"
     ]
    }
   ],
   "source": [
    "#Para mostrar el TOP 3 se abre el archivo en modo lectura y se van recorriendo las líneas del .txt\n",
    "archivo=open('Record.txt', 'r')\n",
    "record=archivo.readlines()\n",
    "archivo.close()\n",
    "print('El récord lo tiene ' + record[0].rstrip('\\n') + ' con ' + record[1].rstrip('\\n') + ' acierto(s).')\n",
    "print('La segunda posición es de ' + record[2].rstrip('\\n') + ' con ' + record[3].rstrip('\\n') + ' acierto(s).')\n",
    "print('El bronce es para ' + record[4].rstrip('\\n') + ' con ' + record[5].rstrip('\\n') + ' acierto(s).')"
   ]
  }
 ],
 "metadata": {
  "kernelspec": {
   "display_name": "Python 3 (ipykernel)",
   "language": "python",
   "name": "python3"
  },
  "language_info": {
   "codemirror_mode": {
    "name": "ipython",
    "version": 3
   },
   "file_extension": ".py",
   "mimetype": "text/x-python",
   "name": "python",
   "nbconvert_exporter": "python",
   "pygments_lexer": "ipython3",
   "version": "3.10.4"
  },
  "varInspector": {
   "cols": {
    "lenName": 16,
    "lenType": 16,
    "lenVar": 40
   },
   "kernels_config": {
    "python": {
     "delete_cmd_postfix": "",
     "delete_cmd_prefix": "del ",
     "library": "var_list.py",
     "varRefreshCmd": "print(var_dic_list())"
    },
    "r": {
     "delete_cmd_postfix": ") ",
     "delete_cmd_prefix": "rm(",
     "library": "var_list.r",
     "varRefreshCmd": "cat(var_dic_list()) "
    }
   },
   "position": {
    "height": "424.833px",
    "left": "163px",
    "right": "20px",
    "top": "-7px",
    "width": "651px"
   },
   "types_to_exclude": [
    "module",
    "function",
    "builtin_function_or_method",
    "instance",
    "_Feature"
   ],
   "window_display": false
  }
 },
 "nbformat": 4,
 "nbformat_minor": 2
}
