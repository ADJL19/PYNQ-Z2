{
 "cells": [
  {
   "cell_type": "markdown",
   "metadata": {},
   "source": [
    "PROGRAMACIÓN DE LA LÓGICA PROGRAMABLE E IMPORTACIÓN DE LIBRERÍAS."
   ]
  },
  {
   "cell_type": "code",
   "execution_count": null,
   "metadata": {},
   "outputs": [],
   "source": [
    "from pynq import Overlay\n",
    "base = Overlay(\"/home/xilinx/jupyter_notebooks/MisCosas/Config/PlantaEnFPGA.bit\")\n",
    "\n",
    "from pynq.lib import AxiGPIO\n",
    "\n",
    "#Importamos una librería para poder graficar el resultado de la simulación.\n",
    "import matplotlib.pyplot as plt\n",
    "from jupyterplot import ProgressPlot\n",
    "\n",
    "import time"
   ]
  },
  {
   "cell_type": "markdown",
   "metadata": {},
   "source": [
    "DECLARACIÓN DE CONSTANTES"
   ]
  },
  {
   "cell_type": "code",
   "execution_count": 16,
   "metadata": {},
   "outputs": [],
   "source": [
    "Nbits, ParteEntera, Escalon, Tiempo, Ts, Inicio = 16, 9, 50.9, 50, 1, 5"
   ]
  },
  {
   "cell_type": "markdown",
   "metadata": {},
   "source": [
    "FUNCIONES PARA EL TRATAMIENTO DE LOS NÚMEROS"
   ]
  },
  {
   "cell_type": "code",
   "execution_count": 17,
   "metadata": {},
   "outputs": [],
   "source": [
    "#Esta función convierte a binario el número decimal que se le pase como argumento de entrada. \n",
    "#El resultado es una lista donde la posición 0 equivale al LSB. Es decir, está invertido.\n",
    "def ToBinary(IN):\n",
    "    B=[]\n",
    "    #Mientras el número sea mayor que uno se sigue aplicando el algoritmo.\n",
    "    while(IN>1):\n",
    "        #Se añade a la lista el resto de la divisón IN/2\n",
    "        B.append(IN%2)\n",
    "        #Se actualiza el valor de IN para que sea el cociente de la operación IN/2\n",
    "        IN=IN//2\n",
    "    #Se añade a la lista el valor actualizado de IN\n",
    "    B.append(IN)\n",
    "        \n",
    "    #Si la longitud de B es menor a Nbits, se concatenan 0.\n",
    "    while(len(B)<Nbits):\n",
    "        B.append(0)\n",
    "        \n",
    "    return B"
   ]
  },
  {
   "cell_type": "code",
   "execution_count": 10,
   "metadata": {},
   "outputs": [],
   "source": [
    "#Esta función obtiene la parte decimal binaria del número decimal en formato decimal introducido. \n",
    "#El resultado es una lista donde la posición 0 equivale al MSB.\n",
    "def ToDecimalBinary(IN):\n",
    "    B=[]\n",
    "    #El algoritmo se realiza tantas veces como sea necesario para obtener el número de bits adecuados\n",
    "    for i in range(0, ParteEntera):\n",
    "        #Si PM>=0 quiere decir que 2^(-i-1) forma parte del número binario decimal.\n",
    "        PM=IN-2**(-i-1)\n",
    "        if(PM>=0): \n",
    "            B.append(1)\n",
    "            #Se actualiza el valor de IN\n",
    "            IN=PM\n",
    "        else: B.append(0)\n",
    "            \n",
    "    return B"
   ]
  },
  {
   "cell_type": "code",
   "execution_count": 5,
   "metadata": {},
   "outputs": [],
   "source": [
    "#Esta función invierte la lista que se introduce como argumento de entrada. \n",
    "#De esta forma, en la posición 0 de la lista estará el MSB\n",
    "def InvertBinary(IN):\n",
    "    B=[]\n",
    "    for i in range(len(IN)-1, -1, -1):\n",
    "        B.append(IN[i])\n",
    "        \n",
    "    return B"
   ]
  },
  {
   "cell_type": "code",
   "execution_count": 6,
   "metadata": {},
   "outputs": [],
   "source": [
    "#Esta función calcula el valor entero en formato decimal del número binario (entero) introducido (en formato lista).\n",
    "def ToDecimalEntero(IN):\n",
    "    DE=0\n",
    "    #Se recorre posición a posición la lista, comenzando por la del MSB.\n",
    "    for i in range(len(IN)-1, -1, -1):\n",
    "        DE+=(2**i)*IN[i]\n",
    "        \n",
    "    return DE"
   ]
  },
  {
   "cell_type": "code",
   "execution_count": 7,
   "metadata": {},
   "outputs": [],
   "source": [
    "#Esta función calcula el valor decimal en formato decimal del número binario (decimal) introducido (en formato lista).\n",
    "def ToDecimalFraccional(IN):\n",
    "    DF=0\n",
    "    #Se recorre posición a posición la lista, comenzando por la del MSB.\n",
    "    for i in range(len(IN)-1, -1, -1):\n",
    "        DF+=(2**(-i-1))*IN[i]\n",
    "        \n",
    "    return DF"
   ]
  },
  {
   "cell_type": "markdown",
   "metadata": {},
   "source": [
    "ACCESO AL BLOQUE AXI GPIO"
   ]
  },
  {
   "cell_type": "code",
   "execution_count": 149,
   "metadata": {},
   "outputs": [],
   "source": [
    "AXIGPIO=base.ip_dict['axi_gpio_0']\n",
    "CanalDeSalida=AxiGPIO(AXIGPIO).channel1\n",
    "#Para evitar tener que trabajar en formato lista, se realizan las siguientes asignaciones\n",
    "EntradaPlanta=CanalDeSalida[0:16]\n",
    "Reset=CanalDeSalida[16:17]\n",
    "\n",
    "CanalDeEntrada=AxiGPIO(AXIGPIO).channel2"
   ]
  },
  {
   "cell_type": "markdown",
   "metadata": {},
   "source": [
    "# PROGRAMA"
   ]
  },
  {
   "cell_type": "code",
   "execution_count": 150,
   "metadata": {},
   "outputs": [],
   "source": [
    "#Se activa el Reset\n",
    "Reset.write(0)\n",
    "#Se calcula el número binario equivalente al valor introducido por el usuario.\n",
    "BE=InvertBinary(InvertBinary(ToBinary(int(Escalon//1))[0:Nbits-ParteEntera])+ToDecimalBinary(Escalon-Escalon//1))"
   ]
  },
  {
   "cell_type": "code",
   "execution_count": 165,
   "metadata": {},
   "outputs": [],
   "source": [
    "#Se introduce 0 como valor de entrada y se levanta el Reset de la planta.\n",
    "EntradaPlanta.write(0)\n",
    "Reset.write(1)"
   ]
  },
  {
   "cell_type": "markdown",
   "metadata": {},
   "source": [
    "SIMULACIÓN CON GRÁFICA A TIEMPO NO REAL."
   ]
  },
  {
   "cell_type": "code",
   "execution_count": 166,
   "metadata": {},
   "outputs": [],
   "source": [
    "#Se declaran las listas donde se almacenarán el valor de entrada a la planta, la salida de esta y los tiempos.\n",
    "Input=[]\n",
    "y=[]\n",
    "t=[]\n",
    "\n",
    "#Se realiza una primera sección de duración Inicio segundos, en los que la entrada será 0.\n",
    "for i in range(Inicio):\n",
    "    t.append(i)\n",
    "    Input.append(0)\n",
    "    y.append(CanalDeEntrada.read())\n",
    "    time.sleep(Ts)\n",
    "    \n",
    "#Después del tiempo inicial, se escribe el valor del escalón y se recogen los parámetros de la planta.\n",
    "EntradaPlanta.write(ToDecimalEntero(BE))\n",
    "time.sleep(Ts)\n",
    "for i in range(Tiempo-Inicio):\n",
    "    t.append(i+Inicio)\n",
    "    Input.append(Escalon)\n",
    "    y.append(CanalDeEntrada.read())\n",
    "    time.sleep(Ts)"
   ]
  },
  {
   "cell_type": "code",
   "execution_count": 153,
   "metadata": {},
   "outputs": [],
   "source": [
    "Output=[]\n",
    "for i in range(len(y)):\n",
    "    #Pasamos a binario la lectura de la FPGA.\n",
    "    S=ToBinary(y[i])\n",
    "    \n",
    "    #Se realiza la conversión al número decimal correcto. Para ello,\n",
    "    #en la parte entera eliminamos los bits decimales, del 0 hasta el 8; \n",
    "    #y en la parte decimal eliminamos los bits enteros, del 9 hasta el 15.\n",
    "    Output.append(ToDecimalEntero(S[ParteEntera:Nbits])+ToDecimalFraccional(InvertBinary(S[0:ParteEntera])))"
   ]
  },
  {
   "cell_type": "code",
   "execution_count": null,
   "metadata": {},
   "outputs": [],
   "source": [
    "#Se grafica la respuesta de la planta ante el escalón\n",
    "fig, P1= plt.subplots() \n",
    "P1.plot(t, Input, \"b\", label=\"CV\")\n",
    "P1.plot(t, Output, \"r\", label=\"PV\")\n",
    "plt.xlim(0, Tiempo)\n",
    "plt.ylim(0, 100)\n",
    "plt.legend(loc = \"best\")\n",
    "plt.title('Planta de control de nivel')\n",
    "plt.xlabel(\"Tiempo (s)\")\n",
    "plt.ylabel(\"Nivel (%)\");"
   ]
  },
  {
   "cell_type": "markdown",
   "metadata": {},
   "source": [
    "SIMULACIÓN CON GRÁFICA A TIEMPO REAL"
   ]
  },
  {
   "cell_type": "code",
   "execution_count": null,
   "metadata": {},
   "outputs": [],
   "source": [
    "#Se introduce 0 como valor de entrada y se activa el Reset de la planta.\n",
    "EntradaPlanta.write(0)\n",
    "Reset.write(0)"
   ]
  },
  {
   "cell_type": "code",
   "execution_count": null,
   "metadata": {},
   "outputs": [],
   "source": [
    "pp=ProgressPlot(plot_names=[\"Planta de control de nivel\"], line_names=[\"CV\", \"PV\"], x_lim=[0, Tiempo], x_label=\"Tiempo (s)\", y_lim=[0, 100])\n",
    "y=0\n",
    "\n",
    "Reset.write(1)\n",
    "#Se realiza una primera sección de duración Inicio segundos, en los que la entrada será 0, para realizar el escalón.\n",
    "for i in range(Inicio):\n",
    "    #Para la salida de la planta realizamos el mismo proceso que para la otra gráfica, pero sin pasos intermedios.\n",
    "    pp.update([[0, ToDecimalEntero(ToBinary(CanalDeEntrada.read())[ParteEntera:Nbits])+ToDecimalFraccional(InvertBinary(ToBinary(CanalDeEntrada.read())[0:ParteEntera]))]])\n",
    "    time.sleep(Ts)\n",
    "\n",
    "EntradaPlanta.write(ToDecimalEntero(BE))\n",
    "time.sleep(Ts)\n",
    "for i in range(Tiempo-Inicio):\n",
    "    #Para la salida de la planta realizamos el mismo proceso que para la otra gráfica, pero sin pasos intermedios.\n",
    "    pp.update([[Escalon, ToDecimalEntero(ToBinary(CanalDeEntrada.read())[ParteEntera:Nbits])+ToDecimalFraccional(InvertBinary(ToBinary(CanalDeEntrada.read())[0:ParteEntera]))]])\n",
    "    time.sleep(Ts)\n",
    "    \n",
    "pp.close()"
   ]
  }
 ],
 "metadata": {
  "kernelspec": {
   "display_name": "Python 3 (ipykernel)",
   "language": "python",
   "name": "python3"
  },
  "language_info": {
   "codemirror_mode": {
    "name": "ipython",
    "version": 3
   },
   "file_extension": ".py",
   "mimetype": "text/x-python",
   "name": "python",
   "nbconvert_exporter": "python",
   "pygments_lexer": "ipython3",
   "version": "3.10.4"
  }
 },
 "nbformat": 4,
 "nbformat_minor": 2
}
